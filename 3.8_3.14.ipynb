{
 "cells": [
  {
   "cell_type": "markdown",
   "id": "d7d130c1-655f-4994-9731-4fa33cc8b505",
   "metadata": {},
   "source": [
    "# 3.8 집계와 분류"
   ]
  },
  {
   "cell_type": "markdown",
   "id": "0ee68df6-ec5a-4736-a95d-f38531a15d52",
   "metadata": {},
   "source": [
    "### sum() mean() median() min() max() 같은 집계연산을 통해서 효율적으로 요약함"
   ]
  },
  {
   "cell_type": "markdown",
   "id": "256cb94d-430a-422b-9472-72cd58f696e5",
   "metadata": {},
   "source": [
    "### Pandas의 집계 메서드 목록"
   ]
  },
  {
   "cell_type": "markdown",
   "id": "d02e3779-f52a-41d8-af6c-d849adea862b",
   "metadata": {},
   "source": [
    "-count()   항목 전체 개수 <br>\n",
    "-first(), last() 첫 항목과 마지막 항목 <br>\n",
    "- mean(), median() 평균값과 중앙값 <br>\n",
    "- min(), max() 최솟값과 최댓값 <br>\n",
    "- std(), var() 표준편차와 분산 <br>\n",
    "- mad() 절대 평균 편차 <br>\n",
    "- prod() 전체 항목의 곱 <br>\n",
    "- sum() 전체 항목의 합"
   ]
  },
  {
   "cell_type": "markdown",
   "id": "a1b9ec2b-8ef4-4038-93cb-2da3bf89cc2b",
   "metadata": {},
   "source": [
    "### GroupBy : 분할, 적용, 결합"
   ]
  },
  {
   "cell_type": "markdown",
   "id": "1c580ad8-eefa-4935-8bc1-38c1641d6f60",
   "metadata": {},
   "source": [
    "분할(키 값 기준으로 DF 나누고 분류)  -> 적용(집계, 변환, 필터링 같은 함수 )  -> 결합(연산 결과를 결과 배열에 병합)"
   ]
  },
  {
   "cell_type": "markdown",
   "id": "87c76ae7-fee1-4e0e-a779-efa1d576afff",
   "metadata": {},
   "source": [
    "- dispatch methid: describe() : 사용한 데이터의 각 그룹을 설명하는 집계 연산 수행"
   ]
  },
  {
   "cell_type": "markdown",
   "id": "96330c51-a85c-4a5e-853a-ba2043cb1b63",
   "metadata": {},
   "source": [
    "### 집계, 필터, 변환, 적용"
   ]
  },
  {
   "cell_type": "markdown",
   "id": "6aa3f8ac-05da-4de6-9c51-f48bef9249f8",
   "metadata": {},
   "source": [
    "- aggregate() "
   ]
  },
  {
   "cell_type": "raw",
   "id": "c0159411-6c2f-4990-b887-c4a81ae7217b",
   "metadata": {},
   "source": [
    "df.groupby('key').aggregate(['min', np.median, max])"
   ]
  },
  {
   "cell_type": "markdown",
   "id": "fe32b5d7-c197-4c77-9410-3707b7d944de",
   "metadata": {},
   "source": [
    "- filter()"
   ]
  },
  {
   "cell_type": "raw",
   "id": "c2c53d15-5578-44db-9cf3-45aec7826a71",
   "metadata": {},
   "source": [
    "def filter_func(x):\n",
    "    return x['data2'].std() >4\n",
    "\n",
    "df.groupby('key').filter(filter_func)"
   ]
  },
  {
   "cell_type": "markdown",
   "id": "5eb68f58-f51a-48fa-b47f-df8ec232b04b",
   "metadata": {},
   "source": [
    "- transform()"
   ]
  },
  {
   "cell_type": "raw",
   "id": "82dad7ab-0b32-4218-8a3a-03be80f96a64",
   "metadata": {},
   "source": [
    "df.groupoby('key').transform(lambda x: x - x.mean())\n",
    "* lambda는 간단한 함수 기능"
   ]
  },
  {
   "cell_type": "markdown",
   "id": "f415a6b8-167b-4ec1-8f6e-e6c03ef5afd7",
   "metadata": {},
   "source": [
    "- apply()"
   ]
  },
  {
   "cell_type": "raw",
   "id": "048b9827-686b-483e-8bda-7bc1a8f8f519",
   "metadata": {},
   "source": [
    "df = df.apply(lambda x: x * 2)"
   ]
  },
  {
   "cell_type": "markdown",
   "id": "e7b8a73d-9dbf-4018-99bb-5396930c91c1",
   "metadata": {},
   "source": [
    "# 3.9 피벗 테이블"
   ]
  },
  {
   "cell_type": "code",
   "execution_count": 7,
   "id": "4ff32eb7-908a-4d10-bb66-6a80c78f512e",
   "metadata": {},
   "outputs": [],
   "source": [
    "import numpy as np\n",
    "import pandas as pd\n",
    "import seaborn as sns\n",
    "titanic=sns.load_dataset('titanic')\n"
   ]
  },
  {
   "cell_type": "code",
   "execution_count": 8,
   "id": "6f69d47d-c6cb-47fb-bac8-a5b8a7313bce",
   "metadata": {},
   "outputs": [
    {
     "data": {
      "text/html": [
       "<div>\n",
       "<style scoped>\n",
       "    .dataframe tbody tr th:only-of-type {\n",
       "        vertical-align: middle;\n",
       "    }\n",
       "\n",
       "    .dataframe tbody tr th {\n",
       "        vertical-align: top;\n",
       "    }\n",
       "\n",
       "    .dataframe thead th {\n",
       "        text-align: right;\n",
       "    }\n",
       "</style>\n",
       "<table border=\"1\" class=\"dataframe\">\n",
       "  <thead>\n",
       "    <tr style=\"text-align: right;\">\n",
       "      <th>class</th>\n",
       "      <th>First</th>\n",
       "      <th>Second</th>\n",
       "      <th>Third</th>\n",
       "    </tr>\n",
       "    <tr>\n",
       "      <th>sex</th>\n",
       "      <th></th>\n",
       "      <th></th>\n",
       "      <th></th>\n",
       "    </tr>\n",
       "  </thead>\n",
       "  <tbody>\n",
       "    <tr>\n",
       "      <th>female</th>\n",
       "      <td>0.968085</td>\n",
       "      <td>0.921053</td>\n",
       "      <td>0.500000</td>\n",
       "    </tr>\n",
       "    <tr>\n",
       "      <th>male</th>\n",
       "      <td>0.368852</td>\n",
       "      <td>0.157407</td>\n",
       "      <td>0.135447</td>\n",
       "    </tr>\n",
       "  </tbody>\n",
       "</table>\n",
       "</div>"
      ],
      "text/plain": [
       "class      First    Second     Third\n",
       "sex                                 \n",
       "female  0.968085  0.921053  0.500000\n",
       "male    0.368852  0.157407  0.135447"
      ]
     },
     "execution_count": 8,
     "metadata": {},
     "output_type": "execute_result"
    }
   ],
   "source": [
    "titanic.pivot_table('survived', index='sex', columns='class')"
   ]
  },
  {
   "cell_type": "markdown",
   "id": "df11a8d3-97fa-463f-8a25-e6bb5654e04a",
   "metadata": {},
   "source": [
    "차원 추가 -> pd.cut 활용"
   ]
  },
  {
   "cell_type": "code",
   "execution_count": 9,
   "id": "25e20604-fec6-4198-816a-59c6d0f9e0f3",
   "metadata": {},
   "outputs": [
    {
     "data": {
      "text/html": [
       "<div>\n",
       "<style scoped>\n",
       "    .dataframe tbody tr th:only-of-type {\n",
       "        vertical-align: middle;\n",
       "    }\n",
       "\n",
       "    .dataframe tbody tr th {\n",
       "        vertical-align: top;\n",
       "    }\n",
       "\n",
       "    .dataframe thead th {\n",
       "        text-align: right;\n",
       "    }\n",
       "</style>\n",
       "<table border=\"1\" class=\"dataframe\">\n",
       "  <thead>\n",
       "    <tr style=\"text-align: right;\">\n",
       "      <th></th>\n",
       "      <th>class</th>\n",
       "      <th>First</th>\n",
       "      <th>Second</th>\n",
       "      <th>Third</th>\n",
       "    </tr>\n",
       "    <tr>\n",
       "      <th>sex</th>\n",
       "      <th>age</th>\n",
       "      <th></th>\n",
       "      <th></th>\n",
       "      <th></th>\n",
       "    </tr>\n",
       "  </thead>\n",
       "  <tbody>\n",
       "    <tr>\n",
       "      <th rowspan=\"2\" valign=\"top\">female</th>\n",
       "      <th>(0, 18]</th>\n",
       "      <td>0.909091</td>\n",
       "      <td>1.000000</td>\n",
       "      <td>0.511628</td>\n",
       "    </tr>\n",
       "    <tr>\n",
       "      <th>(18, 80]</th>\n",
       "      <td>0.972973</td>\n",
       "      <td>0.900000</td>\n",
       "      <td>0.423729</td>\n",
       "    </tr>\n",
       "    <tr>\n",
       "      <th rowspan=\"2\" valign=\"top\">male</th>\n",
       "      <th>(0, 18]</th>\n",
       "      <td>0.800000</td>\n",
       "      <td>0.600000</td>\n",
       "      <td>0.215686</td>\n",
       "    </tr>\n",
       "    <tr>\n",
       "      <th>(18, 80]</th>\n",
       "      <td>0.375000</td>\n",
       "      <td>0.071429</td>\n",
       "      <td>0.133663</td>\n",
       "    </tr>\n",
       "  </tbody>\n",
       "</table>\n",
       "</div>"
      ],
      "text/plain": [
       "class               First    Second     Third\n",
       "sex    age                                   \n",
       "female (0, 18]   0.909091  1.000000  0.511628\n",
       "       (18, 80]  0.972973  0.900000  0.423729\n",
       "male   (0, 18]   0.800000  0.600000  0.215686\n",
       "       (18, 80]  0.375000  0.071429  0.133663"
      ]
     },
     "execution_count": 9,
     "metadata": {},
     "output_type": "execute_result"
    }
   ],
   "source": [
    "age=pd.cut(titanic['age'], [0,18,80])\n",
    "titanic.pivot_table('survived',['sex',age],'class')"
   ]
  },
  {
   "cell_type": "markdown",
   "id": "b66ba19a-8307-4377-b600-2027dfc6b2ba",
   "metadata": {},
   "source": [
    "# 3.10 벡터화된 문자열 연산"
   ]
  },
  {
   "cell_type": "code",
   "execution_count": 10,
   "id": "b7e713c0-b53a-452b-b91e-9d4867482fc6",
   "metadata": {},
   "outputs": [
    {
     "data": {
      "text/plain": [
       "array([ 4,  6, 10, 14, 22, 26])"
      ]
     },
     "execution_count": 10,
     "metadata": {},
     "output_type": "execute_result"
    }
   ],
   "source": [
    "x= np.array([2,3,5,7,11,13])\n",
    "x*2"
   ]
  },
  {
   "cell_type": "markdown",
   "id": "8f6cdf8a-476b-4881-a5fa-003dd0caabc7",
   "metadata": {},
   "source": [
    "## 정규 표현식을 활용하는 method"
   ]
  },
  {
   "cell_type": "markdown",
   "id": "c74a6349-f1d5-4677-b1bb-1c1d4c0c331c",
   "metadata": {},
   "source": [
    "match() : 각 요소에 re.match() 호출, 부울 값 반환 <br>\n",
    "extract() : 각 요소에 re.match() 호출, 문자열로 매칭된 그룹을 반환<br>\n",
    "findall() : 각 요소에 re.findall() 호출<br>\n",
    "replace() : 패턴이 발생한 곳을 다른 문자열로 대체<br>\n",
    "contains() : 각 요소에 re.search() 호출, 부울 값 반환<br>\n",
    "count(): 패턴의 발생 건수 집계<br>\n",
    "split(): str,split()과 동일하지만 정규 표현식 취함<br>\n",
    "rsplit() : str, rsplit()과 동일하지만 정규 표현식 취합"
   ]
  },
  {
   "cell_type": "markdown",
   "id": "9dfe712a-de33-4371-8861-a3320d0fedb1",
   "metadata": {},
   "source": [
    "## 기타 method"
   ]
  },
  {
   "cell_type": "markdown",
   "id": "2e17fba7-e12c-418c-9f4a-823a1ae73c88",
   "metadata": {},
   "source": [
    "get() : 각 요소에 인덱스 지정 <br>\n",
    "slice() : 각 요소에 슬라이스 적용<br>\n",
    "slicr_repalce() : 각 요소의 슬라이스를 전달된 값으로 대체<br>\n",
    "cat() : 문자열 연결<br>\n",
    "repeat() : 값을 반복<br>\n",
    "normalize() :문자열의 유니코드 형태 반환<br>\n",
    "pad() : 문자열의 왼쪽, 오른쪽 또는 양쪽에 공백 추가<br>\n",
    "wrtap() : 긴 문자열을 주어진 너비 보다 짧은 길이의 여러 줄로 나눔<br>\n",
    "join() : series의 각 요소에 있는 문자열을 전달된 구분자와 결합<br>\n",
    "get_dummies() : dataframe 으로 가변수(dummy variable)추출"
   ]
  },
  {
   "cell_type": "markdown",
   "id": "2ebc5bf8-74b7-489c-874d-8679aef1c29a",
   "metadata": {},
   "source": [
    "** df.str.slice(0,3) 은 df.str[0:3]과 동일"
   ]
  },
  {
   "cell_type": "markdown",
   "id": "18d3a396-9783-4b58-8156-c5a85b2a9ff3",
   "metadata": {},
   "source": [
    "## 3.10 시계열 데이터"
   ]
  },
  {
   "cell_type": "code",
   "execution_count": 14,
   "id": "d38ba86c-aa0b-4d3b-9078-0fd2b494df7e",
   "metadata": {},
   "outputs": [],
   "source": [
    "# 기본 모듈\n",
    "from datetime import datetime\n",
    "from dateutil import parser"
   ]
  },
  {
   "cell_type": "markdown",
   "id": "1bd58c06-3064-4dfb-9ed3-7405658e9340",
   "metadata": {},
   "source": [
    "### 시간으로 인덱싱하기"
   ]
  },
  {
   "cell_type": "raw",
   "id": "d5628098-1b4a-4e6a-b67a-1825a6ce8cdc",
   "metadata": {},
   "source": [
    "index =pd.DatetimeIndex(['2020-07-04', '2020-0804',\n",
    "                        '2021-07-04', '2021-08-04'])\n",
    "data=pd.Series([0,1,2,3], index=index)\n",
    "data"
   ]
  },
  {
   "cell_type": "markdown",
   "id": "b41b516e-b012-4987-b6ca-4e0f4bbf9b20",
   "metadata": {},
   "source": [
    "### 리샘플링, 시프팅, 윈도잉"
   ]
  },
  {
   "cell_type": "code",
   "execution_count": 17,
   "id": "60bc2325-8d91-4668-bbea-80828edfe148",
   "metadata": {},
   "outputs": [
    {
     "name": "stdout",
     "output_type": "stream",
     "text": [
      "Collecting pandas-datareader\n",
      "  Downloading pandas_datareader-0.10.0-py3-none-any.whl.metadata (2.9 kB)\n",
      "Requirement already satisfied: lxml in c:\\users\\js\\anaconda3\\lib\\site-packages (from pandas-datareader) (4.9.3)\n",
      "Requirement already satisfied: pandas>=0.23 in c:\\users\\js\\anaconda3\\lib\\site-packages (from pandas-datareader) (2.1.4)\n",
      "Requirement already satisfied: requests>=2.19.0 in c:\\users\\js\\anaconda3\\lib\\site-packages (from pandas-datareader) (2.31.0)\n",
      "Requirement already satisfied: numpy<2,>=1.23.2 in c:\\users\\js\\anaconda3\\lib\\site-packages (from pandas>=0.23->pandas-datareader) (1.26.4)\n",
      "Requirement already satisfied: python-dateutil>=2.8.2 in c:\\users\\js\\anaconda3\\lib\\site-packages (from pandas>=0.23->pandas-datareader) (2.8.2)\n",
      "Requirement already satisfied: pytz>=2020.1 in c:\\users\\js\\anaconda3\\lib\\site-packages (from pandas>=0.23->pandas-datareader) (2023.3.post1)\n",
      "Requirement already satisfied: tzdata>=2022.1 in c:\\users\\js\\anaconda3\\lib\\site-packages (from pandas>=0.23->pandas-datareader) (2023.3)\n",
      "Requirement already satisfied: charset-normalizer<4,>=2 in c:\\users\\js\\anaconda3\\lib\\site-packages (from requests>=2.19.0->pandas-datareader) (2.0.4)\n",
      "Requirement already satisfied: idna<4,>=2.5 in c:\\users\\js\\anaconda3\\lib\\site-packages (from requests>=2.19.0->pandas-datareader) (3.4)\n",
      "Requirement already satisfied: urllib3<3,>=1.21.1 in c:\\users\\js\\anaconda3\\lib\\site-packages (from requests>=2.19.0->pandas-datareader) (2.0.7)\n",
      "Requirement already satisfied: certifi>=2017.4.17 in c:\\users\\js\\anaconda3\\lib\\site-packages (from requests>=2.19.0->pandas-datareader) (2024.2.2)\n",
      "Requirement already satisfied: six>=1.5 in c:\\users\\js\\anaconda3\\lib\\site-packages (from python-dateutil>=2.8.2->pandas>=0.23->pandas-datareader) (1.16.0)\n",
      "Downloading pandas_datareader-0.10.0-py3-none-any.whl (109 kB)\n",
      "   ---------------------------------------- 0.0/109.5 kB ? eta -:--:--\n",
      "   --- ------------------------------------ 10.2/109.5 kB ? eta -:--:--\n",
      "   ------------------------------------- -- 102.4/109.5 kB 2.0 MB/s eta 0:00:01\n",
      "   ---------------------------------------- 109.5/109.5 kB 1.3 MB/s eta 0:00:00\n",
      "Installing collected packages: pandas-datareader\n",
      "Successfully installed pandas-datareader-0.10.0\n"
     ]
    }
   ],
   "source": [
    "!pip install pandas-datareader"
   ]
  },
  {
   "cell_type": "code",
   "execution_count": 19,
   "id": "c13e355c-0a0c-4f60-83e9-fd4788528591",
   "metadata": {},
   "outputs": [
    {
     "name": "stdout",
     "output_type": "stream",
     "text": [
      "Collecting yfinance\n",
      "  Downloading yfinance-0.2.49-py2.py3-none-any.whl.metadata (13 kB)\n",
      "Requirement already satisfied: pandas>=1.3.0 in c:\\users\\js\\anaconda3\\lib\\site-packages (from yfinance) (2.1.4)\n",
      "Requirement already satisfied: numpy>=1.16.5 in c:\\users\\js\\anaconda3\\lib\\site-packages (from yfinance) (1.26.4)\n",
      "Requirement already satisfied: requests>=2.31 in c:\\users\\js\\anaconda3\\lib\\site-packages (from yfinance) (2.31.0)\n",
      "Collecting multitasking>=0.0.7 (from yfinance)\n",
      "  Downloading multitasking-0.0.11-py3-none-any.whl.metadata (5.5 kB)\n",
      "Requirement already satisfied: lxml>=4.9.1 in c:\\users\\js\\anaconda3\\lib\\site-packages (from yfinance) (4.9.3)\n",
      "Requirement already satisfied: platformdirs>=2.0.0 in c:\\users\\js\\anaconda3\\lib\\site-packages (from yfinance) (3.10.0)\n",
      "Requirement already satisfied: pytz>=2022.5 in c:\\users\\js\\anaconda3\\lib\\site-packages (from yfinance) (2023.3.post1)\n",
      "Collecting frozendict>=2.3.4 (from yfinance)\n",
      "  Downloading frozendict-2.4.6-py311-none-any.whl.metadata (23 kB)\n",
      "Collecting peewee>=3.16.2 (from yfinance)\n",
      "  Downloading peewee-3.17.7.tar.gz (939 kB)\n",
      "     ---------------------------------------- 0.0/939.5 kB ? eta -:--:--\n",
      "     --------------------- --------------- 553.0/939.5 kB 17.5 MB/s eta 0:00:01\n",
      "     ----------------------------------- - 911.4/939.5 kB 14.3 MB/s eta 0:00:01\n",
      "     -------------------------------------- 939.5/939.5 kB 9.9 MB/s eta 0:00:00\n",
      "  Installing build dependencies: started\n",
      "  Installing build dependencies: finished with status 'done'\n",
      "  Getting requirements to build wheel: started\n",
      "  Getting requirements to build wheel: finished with status 'done'\n",
      "  Preparing metadata (pyproject.toml): started\n",
      "  Preparing metadata (pyproject.toml): finished with status 'done'\n",
      "Requirement already satisfied: beautifulsoup4>=4.11.1 in c:\\users\\js\\anaconda3\\lib\\site-packages (from yfinance) (4.12.2)\n",
      "Collecting html5lib>=1.1 (from yfinance)\n",
      "  Downloading html5lib-1.1-py2.py3-none-any.whl.metadata (16 kB)\n",
      "Requirement already satisfied: soupsieve>1.2 in c:\\users\\js\\anaconda3\\lib\\site-packages (from beautifulsoup4>=4.11.1->yfinance) (2.5)\n",
      "Requirement already satisfied: six>=1.9 in c:\\users\\js\\anaconda3\\lib\\site-packages (from html5lib>=1.1->yfinance) (1.16.0)\n",
      "Requirement already satisfied: webencodings in c:\\users\\js\\anaconda3\\lib\\site-packages (from html5lib>=1.1->yfinance) (0.5.1)\n",
      "Requirement already satisfied: python-dateutil>=2.8.2 in c:\\users\\js\\anaconda3\\lib\\site-packages (from pandas>=1.3.0->yfinance) (2.8.2)\n",
      "Requirement already satisfied: tzdata>=2022.1 in c:\\users\\js\\anaconda3\\lib\\site-packages (from pandas>=1.3.0->yfinance) (2023.3)\n",
      "Requirement already satisfied: charset-normalizer<4,>=2 in c:\\users\\js\\anaconda3\\lib\\site-packages (from requests>=2.31->yfinance) (2.0.4)\n",
      "Requirement already satisfied: idna<4,>=2.5 in c:\\users\\js\\anaconda3\\lib\\site-packages (from requests>=2.31->yfinance) (3.4)\n",
      "Requirement already satisfied: urllib3<3,>=1.21.1 in c:\\users\\js\\anaconda3\\lib\\site-packages (from requests>=2.31->yfinance) (2.0.7)\n",
      "Requirement already satisfied: certifi>=2017.4.17 in c:\\users\\js\\anaconda3\\lib\\site-packages (from requests>=2.31->yfinance) (2024.2.2)\n",
      "Downloading yfinance-0.2.49-py2.py3-none-any.whl (101 kB)\n",
      "   ---------------------------------------- 0.0/101.1 kB ? eta -:--:--\n",
      "   ---------------------------------------- 101.1/101.1 kB 6.1 MB/s eta 0:00:00\n",
      "Downloading frozendict-2.4.6-py311-none-any.whl (16 kB)\n",
      "Downloading html5lib-1.1-py2.py3-none-any.whl (112 kB)\n",
      "   ---------------------------------------- 0.0/112.2 kB ? eta -:--:--\n",
      "   ---------------------------------------- 112.2/112.2 kB ? eta 0:00:00\n",
      "Downloading multitasking-0.0.11-py3-none-any.whl (8.5 kB)\n",
      "Building wheels for collected packages: peewee\n",
      "  Building wheel for peewee (pyproject.toml): started\n",
      "  Building wheel for peewee (pyproject.toml): finished with status 'done'\n",
      "  Created wheel for peewee: filename=peewee-3.17.7-py3-none-any.whl size=138951 sha256=aaecfb3e7b7bba58fe9677248dec2184685044a78d91b6dbcdee0589f1431753\n",
      "  Stored in directory: c:\\users\\js\\appdata\\local\\pip\\cache\\wheels\\fd\\28\\34\\9ba1363b76703fe35ae8296af28ea74578a41b83544bb9da65\n",
      "Successfully built peewee\n",
      "Installing collected packages: peewee, multitasking, html5lib, frozendict, yfinance\n",
      "Successfully installed frozendict-2.4.6 html5lib-1.1 multitasking-0.0.11 peewee-3.17.7 yfinance-0.2.49\n"
     ]
    }
   ],
   "source": [
    "! pip install yfinance"
   ]
  },
  {
   "cell_type": "code",
   "execution_count": 21,
   "id": "de3537f7-8470-4caf-b9f8-78d9b37f2123",
   "metadata": {},
   "outputs": [
    {
     "name": "stdout",
     "output_type": "stream",
     "text": [
      "Collecting uf\n",
      "  Downloading uf-0.0.4-py3-none-any.whl.metadata (342 bytes)\n",
      "Downloading uf-0.0.4-py3-none-any.whl (6.9 kB)\n",
      "Installing collected packages: uf\n",
      "Successfully installed uf-0.0.4\n"
     ]
    }
   ],
   "source": [
    "! pip install uf"
   ]
  },
  {
   "cell_type": "raw",
   "id": "ca226393-4a8d-4320-be9e-3ddc73b66003",
   "metadata": {},
   "source": [
    "from pandas_datareader import data\n",
    "import yfinance as yf\n",
    "\n",
    "uf.pdr_override()\n",
    "sp500=data.DataReader('^GSPC', start='2018-0101', end='2021-12-31')"
   ]
  },
  {
   "cell_type": "markdown",
   "id": "4336d5f3-7b5a-4b26-a88c-4ad1dbeb4ae0",
   "metadata": {},
   "source": [
    "## 고성능 pandas: eval()과 query()\n"
   ]
  },
  {
   "cell_type": "code",
   "execution_count": 44,
   "id": "1602984f-e7ed-45c9-9d05-f722b15a415b",
   "metadata": {},
   "outputs": [
    {
     "name": "stdout",
     "output_type": "stream",
     "text": [
      "2.25 ms ± 122 µs per loop (mean ± std. dev. of 7 runs, 100 loops each)\n"
     ]
    }
   ],
   "source": [
    "import numpy as np\n",
    "import pandas as pd\n",
    "rng=np.random.RandomState(42)\n",
    "x=rng.rand(1000000)\n",
    "y=rng.rand(1000000)\n",
    "%timeit x+y"
   ]
  },
  {
   "cell_type": "markdown",
   "id": "62abbb50-5a09-4d0a-8b93-8f4387a35893",
   "metadata": {},
   "source": [
    "- eval() : 문자형태의 식을 evaluate하여 빠르게 계산할 수 있도록 함"
   ]
  },
  {
   "cell_type": "raw",
   "id": "ec85e063-d0f1-4e0a-807a-70ea0d3cb151",
   "metadata": {},
   "source": [
    "#산술 연산자 활용\n",
    "result1= -df1*df2/(df3+df4)-df5\n",
    "result2= pd.eval('df1*df2/(df3+df4)-df5')"
   ]
  },
  {
   "cell_type": "markdown",
   "id": "66538df9-b29b-4ad8-a6a6-9ead53df9683",
   "metadata": {},
   "source": [
    "### 열 단위의 연산을 위한 DdataFrame.eval()"
   ]
  },
  {
   "cell_type": "code",
   "execution_count": 40,
   "id": "d0e779ae-3331-4bcc-8fcf-7f6c0c862742",
   "metadata": {},
   "outputs": [
    {
     "data": {
      "text/html": [
       "<div>\n",
       "<style scoped>\n",
       "    .dataframe tbody tr th:only-of-type {\n",
       "        vertical-align: middle;\n",
       "    }\n",
       "\n",
       "    .dataframe tbody tr th {\n",
       "        vertical-align: top;\n",
       "    }\n",
       "\n",
       "    .dataframe thead th {\n",
       "        text-align: right;\n",
       "    }\n",
       "</style>\n",
       "<table border=\"1\" class=\"dataframe\">\n",
       "  <thead>\n",
       "    <tr style=\"text-align: right;\">\n",
       "      <th></th>\n",
       "      <th>A</th>\n",
       "      <th>B</th>\n",
       "      <th>C</th>\n",
       "    </tr>\n",
       "  </thead>\n",
       "  <tbody>\n",
       "    <tr>\n",
       "      <th>0</th>\n",
       "      <td>0.101812</td>\n",
       "      <td>0.298283</td>\n",
       "      <td>0.636572</td>\n",
       "    </tr>\n",
       "    <tr>\n",
       "      <th>1</th>\n",
       "      <td>0.435671</td>\n",
       "      <td>0.220578</td>\n",
       "      <td>0.990797</td>\n",
       "    </tr>\n",
       "    <tr>\n",
       "      <th>2</th>\n",
       "      <td>0.654224</td>\n",
       "      <td>0.820193</td>\n",
       "      <td>0.904737</td>\n",
       "    </tr>\n",
       "    <tr>\n",
       "      <th>3</th>\n",
       "      <td>0.137785</td>\n",
       "      <td>0.155398</td>\n",
       "      <td>0.307140</td>\n",
       "    </tr>\n",
       "    <tr>\n",
       "      <th>4</th>\n",
       "      <td>0.921909</td>\n",
       "      <td>0.707242</td>\n",
       "      <td>0.528478</td>\n",
       "    </tr>\n",
       "  </tbody>\n",
       "</table>\n",
       "</div>"
      ],
      "text/plain": [
       "          A         B         C\n",
       "0  0.101812  0.298283  0.636572\n",
       "1  0.435671  0.220578  0.990797\n",
       "2  0.654224  0.820193  0.904737\n",
       "3  0.137785  0.155398  0.307140\n",
       "4  0.921909  0.707242  0.528478"
      ]
     },
     "execution_count": 40,
     "metadata": {},
     "output_type": "execute_result"
    }
   ],
   "source": [
    "df=pd.DataFrame(rng.rand(1000,3),columns=['A', 'B', 'C'])\n",
    "df.head()"
   ]
  },
  {
   "cell_type": "code",
   "execution_count": 49,
   "id": "2ec30aff-57cf-4b9c-b3af-d0adf5a69381",
   "metadata": {},
   "outputs": [
    {
     "data": {
      "text/plain": [
       "True"
      ]
     },
     "execution_count": 49,
     "metadata": {},
     "output_type": "execute_result"
    }
   ],
   "source": [
    "result1=(df['A']+df['B'])/(df['C']-1)\n",
    "result2=pd.eval(\"(df.A+df.B)/(df.C-1)\")\n",
    "np.allclose(result1,result2)"
   ]
  },
  {
   "cell_type": "markdown",
   "id": "4230ab65-c536-423e-bab0-cc50dfdf75e4",
   "metadata": {},
   "source": [
    "### DataFrame.eval()에서의 할당"
   ]
  },
  {
   "cell_type": "code",
   "execution_count": 51,
   "id": "06fe2260-f80a-4623-8538-79ce922343ad",
   "metadata": {},
   "outputs": [
    {
     "data": {
      "text/html": [
       "<div>\n",
       "<style scoped>\n",
       "    .dataframe tbody tr th:only-of-type {\n",
       "        vertical-align: middle;\n",
       "    }\n",
       "\n",
       "    .dataframe tbody tr th {\n",
       "        vertical-align: top;\n",
       "    }\n",
       "\n",
       "    .dataframe thead th {\n",
       "        text-align: right;\n",
       "    }\n",
       "</style>\n",
       "<table border=\"1\" class=\"dataframe\">\n",
       "  <thead>\n",
       "    <tr style=\"text-align: right;\">\n",
       "      <th></th>\n",
       "      <th>A</th>\n",
       "      <th>B</th>\n",
       "      <th>C</th>\n",
       "    </tr>\n",
       "  </thead>\n",
       "  <tbody>\n",
       "    <tr>\n",
       "      <th>0</th>\n",
       "      <td>0.101812</td>\n",
       "      <td>0.298283</td>\n",
       "      <td>0.636572</td>\n",
       "    </tr>\n",
       "    <tr>\n",
       "      <th>1</th>\n",
       "      <td>0.435671</td>\n",
       "      <td>0.220578</td>\n",
       "      <td>0.990797</td>\n",
       "    </tr>\n",
       "    <tr>\n",
       "      <th>2</th>\n",
       "      <td>0.654224</td>\n",
       "      <td>0.820193</td>\n",
       "      <td>0.904737</td>\n",
       "    </tr>\n",
       "    <tr>\n",
       "      <th>3</th>\n",
       "      <td>0.137785</td>\n",
       "      <td>0.155398</td>\n",
       "      <td>0.307140</td>\n",
       "    </tr>\n",
       "    <tr>\n",
       "      <th>4</th>\n",
       "      <td>0.921909</td>\n",
       "      <td>0.707242</td>\n",
       "      <td>0.528478</td>\n",
       "    </tr>\n",
       "  </tbody>\n",
       "</table>\n",
       "</div>"
      ],
      "text/plain": [
       "          A         B         C\n",
       "0  0.101812  0.298283  0.636572\n",
       "1  0.435671  0.220578  0.990797\n",
       "2  0.654224  0.820193  0.904737\n",
       "3  0.137785  0.155398  0.307140\n",
       "4  0.921909  0.707242  0.528478"
      ]
     },
     "execution_count": 51,
     "metadata": {},
     "output_type": "execute_result"
    }
   ],
   "source": [
    "df.head()"
   ]
  },
  {
   "cell_type": "code",
   "execution_count": 54,
   "id": "799d0794-846a-4418-9be4-48ed0af18320",
   "metadata": {},
   "outputs": [
    {
     "data": {
      "text/html": [
       "<div>\n",
       "<style scoped>\n",
       "    .dataframe tbody tr th:only-of-type {\n",
       "        vertical-align: middle;\n",
       "    }\n",
       "\n",
       "    .dataframe tbody tr th {\n",
       "        vertical-align: top;\n",
       "    }\n",
       "\n",
       "    .dataframe thead th {\n",
       "        text-align: right;\n",
       "    }\n",
       "</style>\n",
       "<table border=\"1\" class=\"dataframe\">\n",
       "  <thead>\n",
       "    <tr style=\"text-align: right;\">\n",
       "      <th></th>\n",
       "      <th>A</th>\n",
       "      <th>B</th>\n",
       "      <th>C</th>\n",
       "      <th>D</th>\n",
       "    </tr>\n",
       "  </thead>\n",
       "  <tbody>\n",
       "    <tr>\n",
       "      <th>0</th>\n",
       "      <td>0.101812</td>\n",
       "      <td>0.298283</td>\n",
       "      <td>0.636572</td>\n",
       "      <td>0.628515</td>\n",
       "    </tr>\n",
       "    <tr>\n",
       "      <th>1</th>\n",
       "      <td>0.435671</td>\n",
       "      <td>0.220578</td>\n",
       "      <td>0.990797</td>\n",
       "      <td>0.662344</td>\n",
       "    </tr>\n",
       "    <tr>\n",
       "      <th>2</th>\n",
       "      <td>0.654224</td>\n",
       "      <td>0.820193</td>\n",
       "      <td>0.904737</td>\n",
       "      <td>1.629663</td>\n",
       "    </tr>\n",
       "    <tr>\n",
       "      <th>3</th>\n",
       "      <td>0.137785</td>\n",
       "      <td>0.155398</td>\n",
       "      <td>0.307140</td>\n",
       "      <td>0.954558</td>\n",
       "    </tr>\n",
       "    <tr>\n",
       "      <th>4</th>\n",
       "      <td>0.921909</td>\n",
       "      <td>0.707242</td>\n",
       "      <td>0.528478</td>\n",
       "      <td>3.082725</td>\n",
       "    </tr>\n",
       "  </tbody>\n",
       "</table>\n",
       "</div>"
      ],
      "text/plain": [
       "          A         B         C         D\n",
       "0  0.101812  0.298283  0.636572  0.628515\n",
       "1  0.435671  0.220578  0.990797  0.662344\n",
       "2  0.654224  0.820193  0.904737  1.629663\n",
       "3  0.137785  0.155398  0.307140  0.954558\n",
       "4  0.921909  0.707242  0.528478  3.082725"
      ]
     },
     "execution_count": 54,
     "metadata": {},
     "output_type": "execute_result"
    }
   ],
   "source": [
    "df.eval('D=(A+B)/C', inplace=True)\n",
    "df.head()"
   ]
  },
  {
   "cell_type": "markdown",
   "id": "9b736304-eb15-4ec0-8183-1ba35a40f6ac",
   "metadata": {},
   "source": [
    "### DataFrame.eval()의 지역변수"
   ]
  },
  {
   "cell_type": "code",
   "execution_count": 55,
   "id": "156f53ae-19a2-4527-94e3-3c49cdf90fd6",
   "metadata": {},
   "outputs": [
    {
     "data": {
      "text/plain": [
       "True"
      ]
     },
     "execution_count": 55,
     "metadata": {},
     "output_type": "execute_result"
    }
   ],
   "source": [
    "column_mean=df.mean(1)\n",
    "result1=df['A']+column_mean\n",
    "result2=df.eval('A + @column_mean') <- column mean시리즈 참조\n",
    "np.allclose(result1, result2)"
   ]
  },
  {
   "cell_type": "markdown",
   "id": "a4657940-2efd-485e-9c74-9231ff13c2c1",
   "metadata": {},
   "source": [
    "### DataFrame.query() method"
   ]
  },
  {
   "cell_type": "raw",
   "id": "4bdb3c74-6539-4b5b-8cd1-b4c37cc7c49d",
   "metadata": {},
   "source": [
    "#기존\n",
    "result = pd.eval('df[(df.A<0.5)& (df.B <0.5)]')\n",
    "#query method사용\n",
    "result=df.query('A<0.5 and B<0.5')"
   ]
  },
  {
   "cell_type": "code",
   "execution_count": null,
   "id": "9c77eb8c-4661-4096-83e9-f66930d49c57",
   "metadata": {},
   "outputs": [],
   "source": []
  },
  {
   "cell_type": "code",
   "execution_count": null,
   "id": "83100edf-c67a-42ae-81ad-04b3233e515d",
   "metadata": {},
   "outputs": [],
   "source": []
  },
  {
   "cell_type": "code",
   "execution_count": null,
   "id": "27d14116-a7c9-4815-8338-ae79232dee34",
   "metadata": {},
   "outputs": [],
   "source": []
  },
  {
   "cell_type": "code",
   "execution_count": null,
   "id": "da3e79ec-6a61-4888-b2fb-ec4257668a79",
   "metadata": {},
   "outputs": [],
   "source": []
  }
 ],
 "metadata": {
  "kernelspec": {
   "display_name": "Python 3 (ipykernel)",
   "language": "python",
   "name": "python3"
  },
  "language_info": {
   "codemirror_mode": {
    "name": "ipython",
    "version": 3
   },
   "file_extension": ".py",
   "mimetype": "text/x-python",
   "name": "python",
   "nbconvert_exporter": "python",
   "pygments_lexer": "ipython3",
   "version": "3.11.7"
  }
 },
 "nbformat": 4,
 "nbformat_minor": 5
}
